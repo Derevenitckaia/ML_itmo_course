{
  "nbformat": 4,
  "nbformat_minor": 0,
  "metadata": {
    "colab": {
      "provenance": [],
      "authorship_tag": "ABX9TyNOR8Z7i6AMan6R8aCVRk8y",
      "include_colab_link": true
    },
    "kernelspec": {
      "name": "python3",
      "display_name": "Python 3"
    },
    "language_info": {
      "name": "python"
    }
  },
  "cells": [
    {
      "cell_type": "markdown",
      "metadata": {
        "id": "view-in-github",
        "colab_type": "text"
      },
      "source": [
        "<a href=\"https://colab.research.google.com/github/Derevenitckaia/ML_itmo_course/blob/main/task_7_svm.ipynb\" target=\"_parent\"><img src=\"https://colab.research.google.com/assets/colab-badge.svg\" alt=\"Open In Colab\"/></a>"
      ]
    },
    {
      "cell_type": "code",
      "execution_count": 1,
      "metadata": {
        "id": "DbAqGGgBbJ8Y"
      },
      "outputs": [],
      "source": [
        "import numpy as np\n",
        "import cv2 as cv\n",
        "import pandas as pd\n",
        "import matplotlib.pyplot as plt\n",
        "import seaborn as sns\n",
        "from sklearn.svm import LinearSVC\n",
        "import os\n"
      ]
    },
    {
      "cell_type": "markdown",
      "source": [
        "В данной **задаче** вам предстоит решить задачу **классификации изображений** – отделить изображения кошек от изображений собак, используя классификацию с мягким зазором и параметром . \n",
        "\n",
        "В предложенном архиве находится выборка, включающая в себя изображения кошек и собак (по 500 изображений). Имя каждого изображения, для удобства, имеет следующий формат:  cat/dog.номер_изображения.jpg  в зависимости от того, какое животное присутствует на изображении. Данная выборка используется для обучения классификатора и оценки классификатора.\n",
        "\n",
        "Следующая выборка предназначена для классификации новых объектов после построения классификатора."
      ],
      "metadata": {
        "id": "QNNQVEkKctxw"
      }
    },
    {
      "cell_type": "code",
      "source": [
        "!git clone https://github.com/Derevenitckaia/ML_itmo_course"
      ],
      "metadata": {
        "colab": {
          "base_uri": "https://localhost:8080/"
        },
        "id": "SFObkxxqjHf8",
        "outputId": "89136f30-167b-4ae7-cd28-b5bc3ad25807"
      },
      "execution_count": 34,
      "outputs": [
        {
          "output_type": "stream",
          "name": "stdout",
          "text": [
            "fatal: destination path 'ML_itmo_course' already exists and is not an empty directory.\n"
          ]
        }
      ]
    },
    {
      "cell_type": "markdown",
      "source": [
        "Для работы с изображениями и получения их гистограмм — характеристик распределения интенсивности изображения, следует воспользоваться следующей функцией и библиотекой cv2:"
      ],
      "metadata": {
        "id": "u8jrV1LU701K"
      }
    },
    {
      "cell_type": "code",
      "source": [
        "def extract_histogram(image, bins=(8, 8, 8)):\n",
        "    hist = cv.calcHist([image], [0, 1, 2], None, bins, [0, 256, 0, 256, 0, 256])\n",
        "    cv.normalize(hist, hist)\n",
        "    return hist.flatten()"
      ],
      "metadata": {
        "id": "9zcooiRSjwQA"
      },
      "execution_count": 17,
      "outputs": []
    },
    {
      "cell_type": "markdown",
      "source": [
        "При считывании набора данных (картинок) из папки для построения гистограммы отсортируйте названия по алфавиту, например, так (иначе тренировочные наборы данных могут отличаться даже при фиксированном random_seed):"
      ],
      "metadata": {
        "id": "1EvibMdk77LU"
      }
    },
    {
      "cell_type": "code",
      "source": [
        "path_train = '/content/ML_itmo_course/7. SVM/train'\n",
        "imagePaths = sorted(list(os.listdir(path_train)))\n",
        "\n",
        "flat_data_arr=[] \n",
        "target_arr=[]\n",
        "\n",
        "for file in imagePaths:\n",
        "  img = cv.imread(os.path.join(path_train , file ))\n",
        "  hist = extract_histogram(img)\n",
        "  flat_data_arr.append(hist)\n",
        "  if 'cat' in file:\n",
        "    target_arr.append(0)\n",
        "  else:\n",
        "    target_arr.append(1)\n"
      ],
      "metadata": {
        "id": "8tESGJsOkr6j"
      },
      "execution_count": 18,
      "outputs": []
    },
    {
      "cell_type": "code",
      "source": [
        "flat_data = np.array(flat_data_arr)\n",
        "target = np.array(target_arr)\n",
        "df = pd.DataFrame(flat_data) #dataframe\n",
        "df['Target'] = target\n",
        "X = df.iloc[:,:-1] #input data \n",
        "Y = df.iloc[:,-1] #output data\n"
      ],
      "metadata": {
        "id": "tch1Jpubk7pM"
      },
      "execution_count": 37,
      "outputs": []
    },
    {
      "cell_type": "markdown",
      "source": [
        "# Задание\n",
        "\n",
        "Обучите классификатор LinearSVC() при C = 0.94 и random_state = 2 на предложенной выборке. Используйте параметр random_state = 2 для разделения выборки на тренировочную и тестовую части, в отношении 75/25 функции train_test_split()."
      ],
      "metadata": {
        "id": "tbSyOqQ77jbR"
      }
    },
    {
      "cell_type": "code",
      "source": [
        "from sklearn.model_selection import train_test_split\n",
        "\n",
        "X_train, X_test, y_train, y_test = train_test_split(X, Y, test_size=0.25, random_state=2)\n",
        "\n",
        "model_svc = LinearSVC(C = 0.94, random_state = 2)\n",
        "model_svc.fit(X_train, y_train)\n"
      ],
      "metadata": {
        "colab": {
          "base_uri": "https://localhost:8080/"
        },
        "id": "1TvbCdaRqGlU",
        "outputId": "00baae20-f016-463d-bb1b-608d1e8c02cd"
      },
      "execution_count": 20,
      "outputs": [
        {
          "output_type": "execute_result",
          "data": {
            "text/plain": [
              "LinearSVC(C=0.94, random_state=2)"
            ]
          },
          "metadata": {},
          "execution_count": 20
        }
      ]
    },
    {
      "cell_type": "code",
      "source": [
        "print(model_svc.coef_[0,281], model_svc.coef_[0,130], model_svc.coef_[0,441])"
      ],
      "metadata": {
        "colab": {
          "base_uri": "https://localhost:8080/"
        },
        "id": "CWX2gW-ZtCD6",
        "outputId": "82bbc565-b83e-4520-c285-92d23fee3f1d"
      },
      "execution_count": 36,
      "outputs": [
        {
          "output_type": "stream",
          "name": "stdout",
          "text": [
            "0.09277315951800084 -0.007902970397376266 -0.00019623918013086797\n",
            "[-0.16762029]\n"
          ]
        }
      ]
    },
    {
      "cell_type": "code",
      "source": [
        "from sklearn.metrics import confusion_matrix\n",
        "conf = confusion_matrix(y_test, model_svc.predict(X_test))"
      ],
      "metadata": {
        "id": "2kDBbzbZtnrt"
      },
      "execution_count": 22,
      "outputs": []
    },
    {
      "cell_type": "markdown",
      "source": [
        "![image.png](data:image/png;base64,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)"
      ],
      "metadata": {
        "id": "YSokp2GT3Jts"
      }
    },
    {
      "cell_type": "code",
      "source": [
        "print(conf)\n",
        "prec = conf[1,1]/(conf[0,1] + conf[1,1])\n",
        "rec = conf[1,1]/(conf[1,0] + conf[1,1])\n",
        "print(\"recall_score = \",rec, \"precision_score = \", prec)\n",
        "F1 = 2 * ((prec * rec) / (prec + rec))\n",
        "print(F1)"
      ],
      "metadata": {
        "colab": {
          "base_uri": "https://localhost:8080/"
        },
        "id": "_sszu1wgxTdD",
        "outputId": "6ea98579-c47d-403e-c018-eac82036e6ef"
      },
      "execution_count": 41,
      "outputs": [
        {
          "output_type": "stream",
          "name": "stdout",
          "text": [
            "[[87 34]\n",
            " [67 62]]\n",
            "recall_score =  0.4806201550387597 precision_score =  0.6458333333333334\n",
            "0.5511111111111111\n"
          ]
        }
      ]
    },
    {
      "cell_type": "code",
      "source": [
        "from sklearn.metrics import recall_score, precision_score\n",
        "print(\"recall_score = \", recall_score(y_test, model_svc.predict(X_test)))\n",
        "print(\"precision_score = \", precision_score(y_test, model_svc.predict(X_test)))"
      ],
      "metadata": {
        "colab": {
          "base_uri": "https://localhost:8080/"
        },
        "id": "d-0LE6TlzQFE",
        "outputId": "7cc691c5-8e49-46cd-ff65-248cd0d9650e"
      },
      "execution_count": 42,
      "outputs": [
        {
          "output_type": "stream",
          "name": "stdout",
          "text": [
            "recall_score =  0.4806201550387597\n",
            "precision_score =  0.6458333333333334\n"
          ]
        }
      ]
    },
    {
      "cell_type": "code",
      "source": [
        "from sklearn.metrics import fbeta_score\n",
        "fbeta_score(y_test, model_svc.predict(X_test), beta = 1, average = 'macro')"
      ],
      "metadata": {
        "colab": {
          "base_uri": "https://localhost:8080/"
        },
        "id": "fbRPYUYvpV-m",
        "outputId": "05c5e37c-e7a1-4d84-c765-9231fde8ab42"
      },
      "execution_count": 43,
      "outputs": [
        {
          "output_type": "execute_result",
          "data": {
            "text/plain": [
              "0.591919191919192"
            ]
          },
          "metadata": {},
          "execution_count": 43
        }
      ]
    },
    {
      "cell_type": "markdown",
      "source": [
        "#Задание 2\n",
        "Выполните предсказание для изображений, указанных ниже. Введите назначенный класс: 0 или 1."
      ],
      "metadata": {
        "id": "WEqMTgEZ5mrg"
      }
    },
    {
      "cell_type": "code",
      "source": [
        "path_train = '/content/ML_itmo_course/7. SVM/test'\n",
        "img_set = ['cat.1016.jpg',  'cat.1024.jpg', 'dog.1006.jpg', 'dog.1033.jpg']\n",
        "# imagePaths = [path_train + img_name for img_name in img_set]\n",
        "\n",
        "flat_data_arr=[] \n",
        "target_arr=[]\n",
        "\n",
        "for file in img_set:\n",
        "  img = cv.imread(os.path.join(path_train , file ))\n",
        "  hist = extract_histogram(img)\n",
        "  flat_data_arr.append(hist)\n",
        "  if 'cat' in file:\n",
        "    target_arr.append(0)\n",
        "  else:\n",
        "    target_arr.append(1)\n",
        "\n",
        "flat_data = np.array(flat_data_arr)\n",
        "target = np.array(target_arr)\n",
        "df = pd.DataFrame(flat_data) #dataframe\n",
        "df['Target'] = target\n",
        "X = df.iloc[:,:-1] #input data \n",
        "Y = df.iloc[:,-1] #output data\n",
        "df['Decision'] = model_svc.predict(X)\n",
        "for i in range(len(img_set)):\n",
        "  print(img_set[i], df['Target'][i], df['Decision'][i])\n",
        "\n"
      ],
      "metadata": {
        "colab": {
          "base_uri": "https://localhost:8080/"
        },
        "id": "KmEO294vrw6p",
        "outputId": "39ed3730-e92c-4660-f2e6-864a966837c2"
      },
      "execution_count": 52,
      "outputs": [
        {
          "output_type": "stream",
          "name": "stdout",
          "text": [
            "cat.1016.jpg 0 0\n",
            "cat.1024.jpg 0 1\n",
            "dog.1006.jpg 1 1\n",
            "dog.1033.jpg 1 0\n"
          ]
        }
      ]
    },
    {
      "cell_type": "code",
      "source": [
        "%cd /content/ML_itmo_course/7. SVM"
      ],
      "metadata": {
        "colab": {
          "base_uri": "https://localhost:8080/"
        },
        "id": "NNW4aHaX8uut",
        "outputId": "c4cc1f33-d55d-409e-bacf-e48a3a32842f"
      },
      "execution_count": 56,
      "outputs": [
        {
          "output_type": "stream",
          "name": "stdout",
          "text": [
            "/content/ML_itmo_course/7. SVM\n"
          ]
        }
      ]
    },
    {
      "cell_type": "code",
      "source": [
        "!git add ."
      ],
      "metadata": {
        "id": "cCL_CI0i82zq"
      },
      "execution_count": 57,
      "outputs": []
    },
    {
      "cell_type": "code",
      "source": [
        "!git config --global user.email \"derevenitckaia.ad@gmail.com\""
      ],
      "metadata": {
        "id": "oclnZXql87Md"
      },
      "execution_count": 59,
      "outputs": []
    },
    {
      "cell_type": "code",
      "source": [
        "!git config --global user.name \"Derevenitckaia\""
      ],
      "metadata": {
        "id": "5wAUF2R89TGk"
      },
      "execution_count": 62,
      "outputs": []
    },
    {
      "cell_type": "code",
      "source": [
        "!git checkout master"
      ],
      "metadata": {
        "colab": {
          "base_uri": "https://localhost:8080/"
        },
        "id": "TLFTy4WL9bZm",
        "outputId": "b28e7a31-71c8-4921-f794-1572db54812d"
      },
      "execution_count": 64,
      "outputs": [
        {
          "output_type": "stream",
          "name": "stdout",
          "text": [
            "error: pathspec 'master' did not match any file(s) known to git.\n"
          ]
        }
      ]
    }
  ]
}