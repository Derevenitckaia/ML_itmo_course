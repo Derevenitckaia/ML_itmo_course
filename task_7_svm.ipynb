{
  "nbformat": 4,
  "nbformat_minor": 0,
  "metadata": {
    "colab": {
      "provenance": [],
      "authorship_tag": "ABX9TyNaX9sk3RhlHJ+zJm15lDTq",
      "include_colab_link": true
    },
    "kernelspec": {
      "name": "python3",
      "display_name": "Python 3"
    },
    "language_info": {
      "name": "python"
    }
  },
  "cells": [
    {
      "cell_type": "markdown",
      "metadata": {
        "id": "view-in-github",
        "colab_type": "text"
      },
      "source": [
        "<a href=\"https://colab.research.google.com/github/Derevenitckaia/ML_itmo_course/blob/main/task_7_svm.ipynb\" target=\"_parent\"><img src=\"https://colab.research.google.com/assets/colab-badge.svg\" alt=\"Open In Colab\"/></a>"
      ]
    },
    {
      "cell_type": "code",
      "execution_count": 1,
      "metadata": {
        "id": "DbAqGGgBbJ8Y"
      },
      "outputs": [],
      "source": [
        "import numpy as np\n",
        "import cv2 as cv\n",
        "import pandas as pd\n",
        "import matplotlib.pyplot as plt\n",
        "import seaborn as sns\n",
        "from sklearn import svm"
      ]
    },
    {
      "cell_type": "markdown",
      "source": [
        "В данной **задаче** вам предстоит решить задачу **классификации изображений** – отделить изображения кошек от изображений собак, используя классификацию с мягким зазором и параметром . \n",
        "\n",
        "В предложенном архиве находится выборка, включающая в себя изображения кошек и собак (по 500 изображений). Имя каждого изображения, для удобства, имеет следующий формат:  cat/dog.номер_изображения.jpg  в зависимости от того, какое животное присутствует на изображении. Данная выборка используется для обучения классификатора и оценки классификатора.\n",
        "\n",
        "Следующая выборка предназначена для классификации новых объектов после построения классификатора."
      ],
      "metadata": {
        "id": "QNNQVEkKctxw"
      }
    },
    {
      "cell_type": "code",
      "source": [],
      "metadata": {
        "id": "vXOG6WzBc5Ih"
      },
      "execution_count": null,
      "outputs": []
    }
  ]
}